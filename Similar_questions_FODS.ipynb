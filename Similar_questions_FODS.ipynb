{
  "nbformat": 4,
  "nbformat_minor": 0,
  "metadata": {
    "colab": {
      "provenance": [],
      "authorship_tag": "ABX9TyP/QMLcizyiNZ1Wh8ff4xzD",
      "include_colab_link": true
    },
    "kernelspec": {
      "name": "python3",
      "display_name": "Python 3"
    },
    "language_info": {
      "name": "python"
    }
  },
  "cells": [
    {
      "cell_type": "markdown",
      "metadata": {
        "id": "view-in-github",
        "colab_type": "text"
      },
      "source": [
        "<a href=\"https://colab.research.google.com/github/manish-kumar-3/DSA0405-FODS/blob/main/Similar_questions_FODS.ipynb\" target=\"_parent\"><img src=\"https://colab.research.google.com/assets/colab-badge.svg\" alt=\"Open In Colab\"/></a>"
      ]
    },
    {
      "cell_type": "markdown",
      "source": [
        "21.**Scenario**:\n",
        "you are a scientist conducting research on rare elements found in a specific region. Your goal is to\n",
        "estimate the average concentration of a rare element in the region using a random sample of\n",
        "measurements. You will use the NumPy library to perform point estimation and calculate\n",
        "confidence intervals for the population mean.The rare element concentration data is stored in a CSV\n",
        "file named \"rare_elements.csv,\" where each row contains a single measurement of the\n",
        "concentration.\n",
        "**Question**:\n",
        "write a Python program that allows the user to input the sample size, confidence level, and desired\n",
        "level of precision."
      ],
      "metadata": {
        "id": "bDKx6BnBGruK"
      }
    },
    {
      "cell_type": "code",
      "execution_count": null,
      "metadata": {
        "colab": {
          "base_uri": "https://localhost:8080/"
        },
        "id": "yriONG83DZIM",
        "outputId": "4be3b031-2b69-42f3-9f8a-10c5f065ed10"
      },
      "outputs": [
        {
          "output_type": "stream",
          "name": "stdout",
          "text": [
            "\n",
            "Point Estimation:\n",
            "Sample Mean: 4.1800\n",
            "Sample Standard Deviation: 0.3033\n",
            "\n",
            "Confidence Interval:\n",
            "Lower Bound: 3.8034\n",
            "Upper Bound: 4.5566\n",
            "Confidence Level: 95.00%\n",
            "\n",
            "Required Sample Size for Desired Precision:\n",
            "Required Sample Size: 71\n"
          ]
        }
      ],
      "source": [
        "import numpy as np\n",
        "import pandas as pd\n",
        "import scipy.stats as stats\n",
        "# Sample data\n",
        "data = {'concentration': [4.6, 3.8, 4.2, 4.0, 4.3, 3.9, 4.1, 4.4, 3.7, 4.5]}\n",
        "df = pd.DataFrame(data)\n",
        "size = 5\n",
        "c_lvl = 0.95\n",
        "desired_precision = 0.1\n",
        "mean = df['concentration'][:size].mean()\n",
        "std = df['concentration'][:size].std(ddof=1)\n",
        "error = std / np.sqrt(size)\n",
        "t_score = stats.t.ppf(1 - (1 - c_lvl) / 2, df=size - 1)\n",
        "mof = t_score * error\n",
        "lower_bound = mean - mof\n",
        "upper_bound = mean + mof\n",
        "requiredsize = ((t_score * std) / desired_precision) ** 2\n",
        "print(\"\\nPoint Estimation:\")\n",
        "print(f\"Sample Mean: {mean:.4f}\")\n",
        "print(f\"Sample Standard Deviation: {std:.4f}\")\n",
        "print(\"\\nConfidence Interval:\")\n",
        "print(f\"Lower Bound: {lower_bound:.4f}\")\n",
        "print(f\"Upper Bound: {upper_bound:.4f}\")\n",
        "print(f\"Confidence Level: {c_lvl * 100:.2f}%\")\n",
        "print(\"\\nRequired Sample Size for Desired Precision:\")\n",
        "print(f\"Required Sample Size: {int(np.ceil(requiredsize))}\")\n"
      ]
    },
    {
      "cell_type": "markdown",
      "source": [
        "22.**Scenario**:\n",
        "Imagine you are an analyst for a popular online shopping website. Your task is to analyze customer\n",
        "reviews and provide insights on the average rating and customer satisfaction level for a specific\n",
        "product category.\n",
        "**Question**:\n",
        "You will use the pandas library to calculate confidence intervals to estimate the true population mean\n",
        "ratingYou have been provided with a CSV file named \"customer_reviews.csv,\" which contains customer\n",
        "ratings for products in the chosen category"
      ],
      "metadata": {
        "id": "4wq650XAG3y4"
      }
    },
    {
      "cell_type": "code",
      "source": [
        "import pandas as pd\n",
        "import scipy.stats as stats\n",
        "data = {'rating': [4, 5, 3, 4, 5, 4, 3, 5, 4, 4, 5, 3, 4, 5, 4, 4, 3, 4, 5, 3]}\n",
        "df = pd.DataFrame(data)\n",
        "ratings = df['rating']\n",
        "mean = ratings.mean()\n",
        "std = ratings.std()\n",
        "size = len(ratings)\n",
        "con_lvl = 0.95\n",
        "# Calculate the t-score for the desired confidence level\n",
        "t_score = stats.t.ppf((1 + con_lvl) / 2, df=size - 1)\n",
        "# Calculate standard error of the mean (SEM)\n",
        "sem = std / (size ** 0.5)\n",
        "# Calculate the margin of error\n",
        "mof = t_score * sem\n",
        "# Calculate the confidence interval\n",
        "con_interval = (mean - mof, mean + mof)\n",
        "print(f\"Sample Mean Rating: {mean:.2f}\")\n",
        "print(f\"Confidence Interval ({con_lvl*100:.0f}%): \"\n",
        "f\"({con_interval[0]:.2f}, {con_interval[1]:.2f})\")"
      ],
      "metadata": {
        "colab": {
          "base_uri": "https://localhost:8080/"
        },
        "id": "EyVUSXHDJvvX",
        "outputId": "9f0d244e-a0e6-4e10-9ea1-e5532ebb7912"
      },
      "execution_count": null,
      "outputs": [
        {
          "output_type": "stream",
          "name": "stdout",
          "text": [
            "Sample Mean Rating: 4.05\n",
            "Confidence Interval (95%): (3.69, 4.41)\n"
          ]
        }
      ]
    },
    {
      "cell_type": "markdown",
      "source": [
        "23.**Scenario**:\n",
        "You are a researcher working in a medical lab, investigating the effectiveness of a new treatment for\n",
        "a specific disease. You have collected data from a clinical trial with two groups: a control group\n",
        "receiving a placebo, and a treatment group receiving the new drug.Your goal is to analyze the data\n",
        "using hypothesis testing and calculate the p-value to determine if the new treatment has a statistically\n",
        "significant effect compared to the placebo. You will use the matplotlib library to visualize the data\n",
        "and the p-value."
      ],
      "metadata": {
        "id": "C06cUD0tKSxs"
      }
    },
    {
      "cell_type": "code",
      "source": [
        "import numpy as np\n",
        "import scipy.stats as stats\n",
        "import matplotlib.pyplot as plt\n",
        "placebo_group = np.array([68, 72, 65, 70, 71, 67, 73, 69, 70, 66])\n",
        "treatment_group = np.array([60, 64, 55, 62, 58, 61, 59, 57, 63, 56])\n",
        "# Perform t-test (two-sample independent t-test)\n",
        "t_statistic, p_value = stats.ttest_ind(placebo_group, treatment_group)\n",
        "print(f\"t-statistic: {t_statistic:.2f}\")\n",
        "print(f\"p-value: {p_value:.10f}\")\n",
        "# Determine if the p-value is statistically significant (common threshold is 0.05)\n",
        "if p_value < 0.05:\n",
        " print(\"has a statistically significant effect.\")\n",
        "else:\n",
        " print(\"has no statistically significant effect.\")\n",
        "plt.figure(figsize=(8, 6))\n",
        "plt.boxplot([placebo_group, treatment_group], labels=['Placebo', 'Treatment'])\n",
        "plt.title('Boxplot of Placebo vs. Treatment')\n",
        "plt.ylabel('Response')\n",
        "plt.show()\n"
      ],
      "metadata": {
        "colab": {
          "base_uri": "https://localhost:8080/",
          "height": 559
        },
        "id": "xprTjN9wKYC3",
        "outputId": "9e59a080-9b92-43f4-fd1f-eb35a01caa8a"
      },
      "execution_count": null,
      "outputs": [
        {
          "output_type": "stream",
          "name": "stdout",
          "text": [
            "t-statistic: 7.61\n",
            "p-value: 0.0000004999\n",
            "has a statistically significant effect.\n"
          ]
        },
        {
          "output_type": "display_data",
          "data": {
            "text/plain": [
              "<Figure size 800x600 with 1 Axes>"
            ],
            "image/png": "[encoded data removed]"
          },
          "metadata": {}
        }
      ]
    },
    {
      "cell_type": "markdown",
      "source": [
        "24.**Question**: K-Nearest Neighbors (KNN) Classifier\n",
        "You are working on a classification problem to predict whether a patient has a certain medical\n",
        "condition or not based on their symptoms. You have collected a dataset of patients with labeled data\n",
        "(0 for no condition, 1 for the condition) and various symptom features.\n",
        "Write a Python program that allows the user to input the features of a new patient and the value of k\n",
        "(number of neighbors). The program should use the KNN classifier from the scikit-learn library to\n",
        "predict whether the patient has the medical condition or not based on the input features."
      ],
      "metadata": {
        "id": "emODgFScK87i"
      }
    },
    {
      "cell_type": "code",
      "source": [
        "import numpy as np\n",
        "from sklearn.model_selection import train_test_split\n",
        "from sklearn.neighbors import KNeighborsClassifier\n",
        "# Larger sample dataset (features and labels)\n",
        "X = np.random.rand(100, 5) # 100 samples with 5 features each\n",
        "y = np.random.choice([0, 1], size=100) # Random labels (0 or 1)\n",
        "# Split the dataset into training and testing sets\n",
        "X_train, X_test, y_train, y_test = train_test_split(X, y, test_size=0.2,\n",
        "random_state=42)\n",
        "# Create a KNN classifier\n",
        "k = int(input(\"Enter the value of k (number of neighbors): \"))\n",
        "knn = KNeighborsClassifier(n_neighbors=k)\n",
        "# Fit the classifier on the training data\n",
        "knn.fit(X_train, y_train)\n",
        "# Input features for the new patient\n",
        "features = np.random.rand(1, 5) # Generate random features for a new patient\n",
        "# Predict whether the patient has the medical condition or not\n",
        "predict = knn.predict(features)\n",
        "if predict[0] == 0:\n",
        " print(\"The patient does not have the medical condition.\")\n",
        "else:\n",
        " print(\"The patient has the medical condition.\")"
      ],
      "metadata": {
        "colab": {
          "base_uri": "https://localhost:8080/"
        },
        "id": "bVewB5GrLHqg",
        "outputId": "90938173-1ef5-4a7f-b3d7-e675656ad41d"
      },
      "execution_count": null,
      "outputs": [
        {
          "output_type": "stream",
          "name": "stdout",
          "text": [
            "Enter the value of k (number of neighbors): 8\n",
            "The patient does not have the medical condition.\n"
          ]
        }
      ]
    },
    {
      "cell_type": "markdown",
      "source": [
        "25.**Question**: Decision Tree for Iris Flower Classification\n",
        "You are analyzing the famous Iris flower dataset to classify iris flowers into three species based on\n",
        "their sepal and petal dimensions. You want to use a Decision Tree classifier to accomplish this task.\n",
        "Write a Python program that loads the Iris dataset from scikit-learn, and allows the user to input the\n",
        "sepal length, sepal width, petal length, and petal width of a new flower. The program should then use\n",
        "the Decision Tree classifier to predict the species of the new flower."
      ],
      "metadata": {
        "id": "wSSY8d0SLe3s"
      }
    },
    {
      "cell_type": "code",
      "source": [
        "import numpy as np\n",
        "from sklearn.datasets import load_iris\n",
        "from sklearn.model_selection import train_test_split\n",
        "from sklearn.tree import DecisionTreeClassifier\n",
        "# Load the Iris dataset\n",
        "iris = load_iris()\n",
        "x = iris.data\n",
        "y = iris.target\n",
        "# Split the dataset into training and testing sets\n",
        "X_train, X_test, y_train, y_test = train_test_split(x, y, test_size=0.2,\n",
        "random_state=42)\n",
        "dt= DecisionTreeClassifier()\n",
        "# Fit the classifier on the training data\n",
        "dt.fit(X_train, y_train)\n",
        "# Input features for the new flower\n",
        "sepal_length = float(input(\"Enter sepal length: \"))\n",
        "sepal_width = float(input(\"Enter sepal width: \"))\n",
        "petal_length = float(input(\"Enter petal length: \"))\n",
        "petal_width = float(input(\"Enter petal width: \"))\n",
        "features = np.array([[sepal_length, sepal_width,\n",
        "petal_length, petal_width]])\n",
        "# Predict the species of the new flower\n",
        "predicted_species = dt.predict(features)\n",
        "species_names = ['Setosa', 'Versicolor', 'Virginica']\n",
        "predicted_species_name = species_names[predicted_species[0]]\n",
        "print(f\"The predicted species of the new flower is: {predicted_species_name}\")\n"
      ],
      "metadata": {
        "colab": {
          "base_uri": "https://localhost:8080/"
        },
        "id": "IBiIUWLtLFLY",
        "outputId": "d1e92681-ab10-4c68-829c-d7aecb07b0b3"
      },
      "execution_count": null,
      "outputs": [
        {
          "output_type": "stream",
          "name": "stdout",
          "text": [
            "Enter sepal length: 7\n",
            "Enter sepal width: 8\n",
            "Enter petal length: 6\n",
            "Enter petal width: 4\n",
            "The predicted species of the new flower is: Virginica\n"
          ]
        }
      ]
    },
    {
      "cell_type": "markdown",
      "source": [
        "26.**Question** : Linear Regression for Housing Price Prediction\n",
        "You are a real estate analyst trying to predict housing prices based on various features of the houses,\n",
        "such as area, number of bedrooms, and location. You have collected a dataset of houses with their\n",
        "respective prices.\n",
        "Write a Python program that allows the user to input the features (area, number of bedrooms, etc.) of\n",
        "a new house. The program should use linear regression from scikit-learn to predict the price of the\n",
        "new house based on the input features."
      ],
      "metadata": {
        "id": "sSLgd_oyMD7e"
      }
    },
    {
      "cell_type": "code",
      "source": [
        "import numpy as np\n",
        "from sklearn.linear_model import LinearRegression\n",
        "# Sample dataset (features: area, bedrooms; target: price)\n",
        "X = np.array([[1400, 3], [1600, 4], [1800, 3], [2000, 4], [2200, 5]])\n",
        "y = np.array([200000, 250000, 280000, 300000, 330000])\n",
        "# Create a Linear Regression model\n",
        "lin_reg = LinearRegression()\n",
        "# Fit the model on the dataset\n",
        "lin_reg.fit(X, y)\n",
        "# Input features for the new house\n",
        "house_area = float(input(\"Enter area: \"))\n",
        "house_bedrooms = int(input(\"Enter no of bedrooms: \"))\n",
        "house_features = np.array([[house_area, house_bedrooms]])\n",
        "# Predict the price of the new house\n",
        "predict_price = lin_reg.predict(house_features)\n",
        "print(f\"The predicted price of the new house is: {predict_price[0]:,.2f}\")"
      ],
      "metadata": {
        "colab": {
          "base_uri": "https://localhost:8080/"
        },
        "id": "rVOoLuGHMHG4",
        "outputId": "504f2996-8c98-4a5f-bcfc-cfc9d237bf32"
      },
      "execution_count": null,
      "outputs": [
        {
          "output_type": "stream",
          "name": "stdout",
          "text": [
            "Enter area: 1600\n",
            "Enter no of bedrooms: 3\n",
            "The predicted price of the new house is: 241,666.67\n"
          ]
        }
      ]
    },
    {
      "cell_type": "markdown",
      "source": [
        "27.**Question**: Logistic Regression for Customer Churn Prediction\n",
        "You are working for a telecommunications company, and you want to predict whether a customer\n",
        "will churn (leave the company) based on their usage patterns and demographic data. You have\n",
        "collected a dataset of past customers with their churn status (0 for not churned, 1 for churned) and\n",
        "various features.\n",
        "Write a Python program that allows the user to input the features (e.g., usage minutes, contract\n",
        "duration) of a new customer. The program should use logistic regression from scikit-learn to predict\n",
        "whether the new customer will churn or not based on the input features."
      ],
      "metadata": {
        "id": "vXXjvPUhMUsX"
      }
    },
    {
      "cell_type": "code",
      "source": [
        "import numpy as np\n",
        "from sklearn.model_selection import train_test_split\n",
        "from sklearn.linear_model import LogisticRegression\n",
        "# Sample dataset (features and labels)\n",
        "x = np.array([[100, 24], [200, 12], [50, 6], [300, 36], [150, 18], [80, 9]])\n",
        "y = np.array([0, 1, 0, 1, 0, 1]) # 0: Not Churned, 1: Churned\n",
        "# Split the dataset into training and testing sets\n",
        "X_train, X_test, y_train, y_test = train_test_split(x, y, test_size=0.2,\n",
        "random_state=42)\n",
        "# Create a Logistic Regression classifier\n",
        "logreg = LogisticRegression()\n",
        "# Fit the classifier on the training data\n",
        "logreg.fit(X_train, y_train)\n",
        "# Input features for the new customer\n",
        "min = int(input(\"Enter usage minutes: \"))\n",
        "duration = int(input(\"Enter contract duration: \"))\n",
        "features = np.array([[min, duration]])\n",
        "# Predict whether the new customer will churn or not\n",
        "predict = logreg.predict(features)\n",
        "if predict[0] == 0:\n",
        " print(\"The new customer is not likely to churn.\")\n",
        "else:\n",
        " print(\"The new customer is likely to churn.\")"
      ],
      "metadata": {
        "colab": {
          "base_uri": "https://localhost:8080/"
        },
        "id": "9AUKujW6MXLZ",
        "outputId": "2229fb3c-60e3-44eb-b0a5-4212aad206bf"
      },
      "execution_count": null,
      "outputs": [
        {
          "output_type": "stream",
          "name": "stdout",
          "text": [
            "Enter usage minutes: 8\n",
            "Enter contract duration: 60\n",
            "The new customer is not likely to churn.\n"
          ]
        }
      ]
    },
    {
      "cell_type": "markdown",
      "source": [
        "'''\n",
        "28.**Question**: K-Means Clustering for Customer Segmentation\n",
        "You are working for an e-commerce company and want to segment your customers into distinct\n",
        "groups based on their purchasing behavior. You have collected a dataset of customer data with\n",
        "various shopping-related features.\n",
        "Write a Python program that allows the user to input the shopping-related features of a new customer.\n",
        "The program should use K-Means clustering from scikit-learn to assign the new customer to one of\n",
        "the existing segments based on the input features."
      ],
      "metadata": {
        "id": "fHJYmYqWMlcO"
      }
    },
    {
      "cell_type": "code",
      "source": [
        "import numpy as np\n",
        "from sklearn.cluster import KMeans\n",
        "# Sample customer data (features)\n",
        "customer_data = np.array([[5.1, 3.5, 1.4, 0.2], # Feature 1: Sepal length, Sepal width, Petal length, Petal width\n",
        "[4.9, 3.0, 1.4, 0.2],\n",
        "[5.8, 2.6, 4.0, 1.2],\n",
        "[6.6, 3.0, 4.4, 1.4],\n",
        "[7.3, 2.9, 6.3, 1.8]])\n",
        "# Create a K-Means clustering model with 3 clusters\n",
        "kmeans = KMeans(n_clusters=3, random_state=42, n_init=10)\n",
        "# Fit the model on the customer data\n",
        "kmeans.fit(customer_data)\n",
        "# Input features for the new customer\n",
        "new_customer_features = np.array([[6.2, 3.1, 5.2, 2.3]])\n",
        "# Predict the segment for the new customer\n",
        "predicted_segment = kmeans.predict(new_customer_features)\n",
        "print(f\"The predicted segment for the new customer is: {predicted_segment[0]}\")\n"
      ],
      "metadata": {
        "colab": {
          "base_uri": "https://localhost:8080/"
        },
        "id": "Tx85e_YWMo6E",
        "outputId": "919ef85a-5a1b-4fc9-af49-56acb4720585"
      },
      "execution_count": null,
      "outputs": [
        {
          "output_type": "stream",
          "name": "stdout",
          "text": [
            "The predicted segment for the new customer is: 2\n"
          ]
        }
      ]
    },
    {
      "cell_type": "markdown",
      "source": [
        "29.**Question**: Evaluation Metrics for Model Performance\n",
        "You have trained a machine learning model on a dataset, and now you want to evaluate its\n",
        "performance using various metrics.\n",
        "Write a Python program that loads a dataset and trained model from scikit-learn. The program should\n",
        "ask the user to input the names of the features and the target variable they want to use for evaluation.\n",
        "The program should then calculate and display common evaluation metrics such as accuracy,\n",
        "precision, recall, and F1-score for the model's predictions on the test data"
      ],
      "metadata": {
        "id": "k-RzliWzNC62"
      }
    },
    {
      "cell_type": "code",
      "source": [
        "from sklearn.model_selection import train_test_split\n",
        "from sklearn.linear_model import LogisticRegression\n",
        "from sklearn.metrics import accuracy_score, precision_score, recall_score, f1_score\n",
        "# Example feature values\n",
        "X = [\n",
        "[5.1, 3.5, 1.4, 0.2],\n",
        "[4.9, 3.0, 1.4, 0.2],\n",
        "[5.8, 2.6, 4.0, 1.2],\n",
        "[6.6, 3.0, 4.4, 1.4],\n",
        "[7.3, 2.9, 6.3, 1.8]]\n",
        "# Example target labels\n",
        "y = [0, 0, 1, 1, 2]\n",
        "# Split the dataset into training and testing sets\n",
        "X_train, X_test, y_train, y_test = train_test_split(X, y, test_size=0.2,\n",
        "random_state=42)\n",
        "model = LogisticRegression(max_iter=1000)\n",
        "model.fit(X_train, y_train)\n",
        "predict = model.predict(X_test)\n",
        "print(f\"Evaluation metrics for the model:\")\n",
        "print(f\"Accuracy: {accuracy_score(y_test, predict):.4f}\")\n",
        "print(f\"Precision: {precision_score(y_test, predict, average='weighted'):.4f}\")\n",
        "print(f\"Recall: {recall_score(y_test, predict, average='weighted'):.4f}\")\n",
        "print(f\"F1-Score: {f1_score(y_test, predict, average='weighted'):.4f}\")"
      ],
      "metadata": {
        "colab": {
          "base_uri": "https://localhost:8080/"
        },
        "id": "NGByjdZ7NHtj",
        "outputId": "1a9b6803-4071-4b03-bf42-ee2a86b4ef2f"
      },
      "execution_count": null,
      "outputs": [
        {
          "output_type": "stream",
          "name": "stdout",
          "text": [
            "Evaluation metrics for the model:\n",
            "Accuracy: 1.0000\n",
            "Precision: 1.0000\n",
            "Recall: 1.0000\n",
            "F1-Score: 1.0000\n"
          ]
        }
      ]
    },
    {
      "cell_type": "markdown",
      "source": [
        "0.**Question**: Classification and Regression Trees (CART) for Car Price Prediction\n",
        "You are working for a car dealership, and you want to predict the price of used cars based on various\n",
        "features such as the car's mileage, age, brand, and engine type. You have collected a dataset of used\n",
        "cars with their respective prices.\n",
        "Write a Python program that loads the car dataset and allows the user to input the features of a new\n",
        "car they want to sell. The program should use the Classification and Regression Trees (CART)\n",
        "algorithm from scikit-learn to predict the price of the new car based on the input features.\n",
        "The CART algorithm will create a tree-based model that will split the data into subsets based on the\n",
        "chosen features and their values, leading to a decision path that eventually predicts the price of the\n",
        "car. The program should output the predicted price and display the decision path (the sequence of\n",
        "conditions leading to the prediction) for the new car.\n"
      ],
      "metadata": {
        "id": "U7vpxoF1NlR7"
      }
    },
    {
      "cell_type": "code",
      "source": [
        "import numpy as np\n",
        "from sklearn.tree import DecisionTreeRegressor\n",
        "from sklearn.tree import export_text\n",
        "X = np.array([\n",
        "[50000, 3, 0], # Mileage: 50000, Age: 3, Brand: 0 (Toyota)\n",
        "[80000, 5, 1], # Mileage: 80000, Age: 5, Brand: 1 (Honda)\n",
        "[30000, 2, 0], # Mileage: 30000, Age: 2, Brand: 0 (Toyota)\n",
        "[60000, 4, 2] # Mileage: 60000, Age: 4, Brand: 2 (Ford)\n",
        "])\n",
        "# target prices\n",
        "y = np.array([15000, 12000, 18000, 10000])\n",
        "model = DecisionTreeRegressor()\n",
        "model.fit(X, y)\n",
        "# Input feature values for the new car\n",
        "features = np.array([33000, 2, 0]) # Mileage: 33000, Age: 2, Brand: 0 (Honda)\n",
        "predicted_price = model.predict([features])[0]\n",
        "print(f\"Predicted price for the new car: ${predicted_price:.2f}\")\n",
        "decision_path = model.decision_path([features])\n",
        "print(\"\\nDecision path:\")\n",
        "print(export_text(model, feature_names=['Mileage', 'Age', 'Brand']))\n"
      ],
      "metadata": {
        "colab": {
          "base_uri": "https://localhost:8080/"
        },
        "id": "RW6llFRSNn1H",
        "outputId": "f5e6b54c-0454-410c-e226-d805b0b4e634"
      },
      "execution_count": null,
      "outputs": [
        {
          "output_type": "stream",
          "name": "stdout",
          "text": [
            "Predicted price for the new car: $18000.00\n",
            "\n",
            "Decision path:\n",
            "|--- Age <= 3.50\n",
            "|   |--- Mileage <= 40000.00\n",
            "|   |   |--- value: [18000.00]\n",
            "|   |--- Mileage >  40000.00\n",
            "|   |   |--- value: [15000.00]\n",
            "|--- Age >  3.50\n",
            "|   |--- Mileage <= 70000.00\n",
            "|   |   |--- value: [10000.00]\n",
            "|   |--- Mileage >  70000.00\n",
            "|   |   |--- value: [12000.00]\n",
            "\n"
          ]
        }
      ]
    }
  ]
}